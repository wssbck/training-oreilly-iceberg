{
 "cells": [
  {
   "cell_type": "code",
   "execution_count": null,
   "id": "32c5f8bc",
   "metadata": {
    "scrolled": true
   },
   "outputs": [],
   "source": [
    "# first of all, let's check that avro tools work\n",
    "\n",
    "!java -jar /usr/bin/avro.jar"
   ]
  },
  {
   "cell_type": "code",
   "execution_count": null,
   "id": "279eb712",
   "metadata": {},
   "outputs": [],
   "source": [
    "# check that Spark client works\n",
    "\n",
    "from pyspark.sql import SparkSession\n",
    "\n",
    "spark = SparkSession.builder \\\n",
    "    .config(\"spark.sql.warehouse.dir\", \"/usr/local/hadoop/warehouse\") \\\n",
    "    .config(\"spark.sql.catalog.iceberg\", \"org.apache.iceberg.spark.SparkCatalog\") \\\n",
    "    .config(\"spark.sql.catalog.iceberg.type\", \"hive\") \\\n",
    "    .config(\"spark.sql.catalog.iceberg.uri\", \"thrift://hivemetastore:9083\") \\\n",
    "    .config(\"spark.sql.catalog.iceberg.cache-enabled\", False) \\\n",
    "    .getOrCreate()\n",
    "\n",
    "spark.sql(\"\"\"\n",
    "    SHOW TABLES FROM iceberg.default\n",
    "\"\"\").show()"
   ]
  },
  {
   "cell_type": "code",
   "execution_count": null,
   "id": "6e8e63c3",
   "metadata": {},
   "outputs": [],
   "source": [
    "# check that Trino client works\n",
    "\n",
    "from trino.dbapi import connect\n",
    "\n",
    "trino_connection = connect(\n",
    "    host=\"trino\",\n",
    "    port=8080,\n",
    "    user=\"iceberg\",\n",
    ")\n",
    "trino = trino_connection.cursor()\n",
    "trino.execute(\"SELECT * FROM system.runtime.nodes\")\n",
    "\n",
    "rows = trino.fetchall()\n",
    "print(rows)"
   ]
  },
  {
   "cell_type": "code",
   "execution_count": null,
   "id": "360f35a4",
   "metadata": {},
   "outputs": [],
   "source": [
    "# check that Python client works\n",
    "\n",
    "from pyiceberg.catalog.hive import HiveCatalog\n",
    "from pyiceberg.exceptions import NoSuchTableError\n",
    "\n",
    "catalog = HiveCatalog(name=\"iceberg\", uri=\"thrift://hivemetastore:9083\")\n",
    "\n",
    "try:\n",
    "    catalog.load_table(\"default.sample\")\n",
    "except NoSuchTableError as e:\n",
    "    print(e)"
   ]
  }
 ],
 "metadata": {
  "kernelspec": {
   "display_name": "Python 3 (ipykernel)",
   "language": "python",
   "name": "python3"
  },
  "language_info": {
   "codemirror_mode": {
    "name": "ipython",
    "version": 3
   },
   "file_extension": ".py",
   "mimetype": "text/x-python",
   "name": "python",
   "nbconvert_exporter": "python",
   "pygments_lexer": "ipython3",
   "version": "3.8.10"
  }
 },
 "nbformat": 4,
 "nbformat_minor": 5
}
