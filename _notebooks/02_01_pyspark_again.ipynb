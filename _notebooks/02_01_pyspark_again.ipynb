{
 "cells": [
  {
   "cell_type": "code",
   "execution_count": null,
   "id": "59027d32",
   "metadata": {},
   "outputs": [],
   "source": [
    "# define Spark client\n",
    "\n",
    "from pyspark.sql import SparkSession\n",
    "\n",
    "\n",
    "spark = SparkSession.builder \\\n",
    "    .config(\"spark.sql.warehouse.dir\", \"/usr/local/hadoop/warehouse\") \\\n",
    "    .config(\"spark.sql.catalog.iceberg\", \"org.apache.iceberg.spark.SparkCatalog\") \\\n",
    "    .config(\"spark.sql.catalog.iceberg.type\", \"hive\") \\\n",
    "    .config(\"spark.sql.catalog.iceberg.uri\", \"thrift://hivemetastore:9083\") \\\n",
    "    .config(\"spark.sql.catalog.iceberg.cache-enabled\", False) \\\n",
    "    .config(\"spark.sql.extensions\", \"org.apache.iceberg.spark.extensions.IcebergSparkSessionExtensions\") \\\n",
    "    .getOrCreate()\n",
    "\n",
    "spark.sparkContext.setLogLevel('ERROR')"
   ]
  },
  {
   "cell_type": "code",
   "execution_count": null,
   "id": "4780a9de",
   "metadata": {},
   "outputs": [],
   "source": [
    "# query existing snapshots\n",
    "\n",
    "spark.sql(\"\"\"\n",
    "SELECT snapshot_id, committed_at\n",
    "FROM iceberg.default.bank_transfers.snapshots\n",
    "ORDER BY committed_at           \n",
    "\"\"\").show(truncate=False)"
   ]
  },
  {
   "cell_type": "code",
   "execution_count": null,
   "id": "82d31119",
   "metadata": {},
   "outputs": [],
   "source": [
    "# query a snapshot using its id\n",
    "\n",
    "df_1 = spark.sql(\"\"\"\n",
    "SELECT *\n",
    "FROM iceberg.default.bank_transfers\n",
    "VERSION AS OF 4618106655617205880 \n",
    "\"\"\")\n",
    "\n",
    "df_1.show(truncate=False)"
   ]
  },
  {
   "cell_type": "code",
   "execution_count": null,
   "id": "5d782209",
   "metadata": {
    "scrolled": false
   },
   "outputs": [],
   "source": [
    "# query a snapshot using its creation date\n",
    "\n",
    "df_2 = spark.sql(\"\"\"\n",
    "SELECT *\n",
    "FROM iceberg.default.bank_transfers\n",
    "TIMESTAMP AS OF '2023-04-04 19:50:46.929'\n",
    "\"\"\")\n",
    "\n",
    "df_2.show(truncate=False)"
   ]
  },
  {
   "cell_type": "code",
   "execution_count": null,
   "id": "0addbbd9",
   "metadata": {},
   "outputs": [],
   "source": [
    "# show the difference between the two\n",
    "\n",
    "df_2.subtract(df_1).show()"
   ]
  },
  {
   "cell_type": "code",
   "execution_count": null,
   "id": "5ee2b552",
   "metadata": {},
   "outputs": [],
   "source": [
    "# list partitions of the table\n",
    "\n",
    "spark.sql(\"\"\"\n",
    "SELECT *\n",
    "FROM iceberg.default.bank_transfers.partitions\n",
    "\"\"\").show(truncate=False)"
   ]
  },
  {
   "cell_type": "code",
   "execution_count": null,
   "id": "f4b6253b",
   "metadata": {
    "scrolled": true
   },
   "outputs": [],
   "source": [
    "# expand partitioning scheme and insert more data, then list partitions\n",
    "\n",
    "spark.sql(\"\"\"\n",
    "ALTER TABLE iceberg.default.bank_transfers\n",
    "ADD PARTITION FIELD bucket(1000, amount)\n",
    "\"\"\")\n",
    "\n",
    "\n",
    "spark.sql(\"\"\"\n",
    "INSERT INTO iceberg.default.bank_transfers VALUES\n",
    "    (5, 2500, \"Charles B.\", \"GlobCorp Inc.\", TIMESTAMP\"2022-12-03T11:00:02\")\n",
    "\"\"\")"
   ]
  },
  {
   "cell_type": "code",
   "execution_count": null,
   "id": "b234f0d7",
   "metadata": {},
   "outputs": [],
   "source": [
    "# list partitions of the table again\n",
    "\n",
    "spark.sql(\"\"\"\n",
    "SELECT *\n",
    "FROM iceberg.default.bank_transfers.partitions\n",
    "\"\"\").show(truncate=False)"
   ]
  },
  {
   "cell_type": "code",
   "execution_count": null,
   "id": "c5efbc60",
   "metadata": {},
   "outputs": [],
   "source": [
    "# add a column and insert more data\n",
    "\n",
    "spark.sql(\"\"\"\n",
    "ALTER TABLE iceberg.default.bank_transfers\n",
    "ADD COLUMNS (\n",
    "    comment string comment 'additional information about a transaction'\n",
    ")\n",
    "\"\"\")\n",
    "\n",
    "spark.sql(\"\"\"\n",
    "INSERT INTO iceberg.default.bank_transfers VALUES\n",
    "    (6, 2200, \"Ian S.\", \"GlobCorp Inc.\", TIMESTAMP\"2022-12-04T21:01:02\", \"flag this transaction please\")\n",
    "\"\"\")"
   ]
  },
  {
   "cell_type": "code",
   "execution_count": null,
   "id": "71c241da",
   "metadata": {
    "scrolled": true
   },
   "outputs": [],
   "source": [
    "# compare data with previous snapshot\n",
    "\n",
    "spark.sql(\"\"\"\n",
    "SELECT *\n",
    "FROM iceberg.default.bank_transfers\n",
    "VERSION AS OF 4618106655617205880 \n",
    "\"\"\").show(truncate=False)\n",
    "\n",
    "spark.sql(\"\"\"\n",
    "SELECT *\n",
    "FROM iceberg.default.bank_transfers\n",
    "\"\"\").show(truncate=False)"
   ]
  },
  {
   "cell_type": "code",
   "execution_count": null,
   "id": "fe7732cf",
   "metadata": {},
   "outputs": [],
   "source": [
    "# remove a column and add it again\n",
    "\n",
    "spark.sql(\"\"\"\n",
    "ALTER TABLE iceberg.default.bank_transfers\n",
    "DROP COLUMN comment\n",
    "\"\"\")\n",
    "\n",
    "spark.sql(\"\"\"\n",
    "ALTER TABLE iceberg.default.bank_transfers\n",
    "ADD COLUMNS (\n",
    "    comment string comment 'additional information about a transaction'\n",
    ")\n",
    "\"\"\")"
   ]
  },
  {
   "cell_type": "code",
   "execution_count": null,
   "id": "f3f3fb58",
   "metadata": {},
   "outputs": [],
   "source": [
    "# select the data again\n",
    "\n",
    "spark.sql(\"\"\"\n",
    "SELECT *\n",
    "FROM iceberg.default.bank_transfers\n",
    "\"\"\").show(truncate=False)"
   ]
  },
  {
   "cell_type": "code",
   "execution_count": null,
   "id": "f57c55b1",
   "metadata": {},
   "outputs": [],
   "source": [
    "# list snapshots again\n",
    "\n",
    "spark.sql(\"\"\"\n",
    "SELECT snapshot_id, committed_at\n",
    "FROM iceberg.default.bank_transfers.snapshots\n",
    "ORDER BY committed_at           \n",
    "\"\"\").show(truncate=False)"
   ]
  },
  {
   "cell_type": "code",
   "execution_count": null,
   "id": "5563ee63",
   "metadata": {
    "scrolled": true
   },
   "outputs": [],
   "source": [
    "# is the data in the last snapshot when called explicitly?\n",
    "\n",
    "df_1 = spark.sql(\"\"\"\n",
    "SELECT *\n",
    "FROM iceberg.default.bank_transfers\n",
    "VERSION AS OF 2493344975659103448  \n",
    "\"\"\").show(truncate=False)"
   ]
  },
  {
   "cell_type": "code",
   "execution_count": null,
   "id": "18e2a84d",
   "metadata": {},
   "outputs": [],
   "source": [
    "# what is going on with the metadata\n",
    "\n",
    "df_1 = spark.sql(\"\"\"\n",
    "SELECT timestamp, latest_snapshot_id\n",
    "FROM iceberg.default.bank_transfers.metadata_log_entries\n",
    "ORDER BY timestamp\n",
    "\"\"\").show(truncate=False)"
   ]
  }
 ],
 "metadata": {
  "kernelspec": {
   "display_name": "Python 3 (ipykernel)",
   "language": "python",
   "name": "python3"
  },
  "language_info": {
   "codemirror_mode": {
    "name": "ipython",
    "version": 3
   },
   "file_extension": ".py",
   "mimetype": "text/x-python",
   "name": "python",
   "nbconvert_exporter": "python",
   "pygments_lexer": "ipython3",
   "version": "3.8.10"
  }
 },
 "nbformat": 4,
 "nbformat_minor": 5
}
