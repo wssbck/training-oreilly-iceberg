{
 "cells": [
  {
   "cell_type": "code",
   "execution_count": null,
   "id": "6e8e63c3",
   "metadata": {},
   "outputs": [],
   "source": [
    "# initiate Trino client\n",
    "\n",
    "from trino.dbapi import connect\n",
    "\n",
    "\n",
    "trino_connection = connect(\n",
    "    host=\"trino\",\n",
    "    port=8080,\n",
    "    user=\"iceberg\",\n",
    ")\n",
    "trino = trino_connection.cursor()"
   ]
  },
  {
   "cell_type": "code",
   "execution_count": null,
   "id": "cad44a14",
   "metadata": {},
   "outputs": [],
   "source": [
    "# select all data in the table\n",
    "\n",
    "rows = trino.execute(\"\"\"\n",
    "SELECT *\n",
    "FROM iceberg.default.bank_transfers\n",
    "\"\"\").fetchall()\n",
    "\n",
    "for row in rows:\n",
    "    print(row)"
   ]
  },
  {
   "cell_type": "code",
   "execution_count": null,
   "id": "c3d6b513",
   "metadata": {
    "scrolled": true
   },
   "outputs": [],
   "source": [
    "# query table history\n",
    "\n",
    "cols = trino.execute(\"\"\"\n",
    "SHOW COLUMNS\n",
    "FROM iceberg.default.\"bank_transfers$history\"\n",
    "\"\"\").fetchall()\n",
    "\n",
    "rows = trino.execute(\"\"\"\n",
    "SELECT *\n",
    "FROM iceberg.default.\"bank_transfers$history\"\n",
    "ORDER BY made_current_at\n",
    "\"\"\").fetchall()\n",
    "\n",
    "for col in cols:\n",
    "    print(col)\n",
    "\n",
    "print(\"\")\n",
    "    \n",
    "for row in rows:\n",
    "    print(row)"
   ]
  },
  {
   "cell_type": "code",
   "execution_count": null,
   "id": "a9694256",
   "metadata": {},
   "outputs": [],
   "source": [
    "# query table snapshots\n",
    "\n",
    "cols = trino.execute(\"\"\"\n",
    "SHOW COLUMNS\n",
    "FROM iceberg.default.\"bank_transfers$snapshots\"\n",
    "\"\"\").fetchall()\n",
    "\n",
    "rows = trino.execute(\"\"\"\n",
    "SELECT *\n",
    "FROM iceberg.default.\"bank_transfers$snapshots\"\n",
    "ORDER BY committed_at\n",
    "\"\"\").fetchall()\n",
    "\n",
    "\n",
    "for col in cols:\n",
    "    print(col)\n",
    "\n",
    "print(\"\")\n",
    "    \n",
    "for row in rows:\n",
    "    print(row)"
   ]
  },
  {
   "cell_type": "code",
   "execution_count": null,
   "id": "68bbb93e",
   "metadata": {},
   "outputs": [],
   "source": [
    "# query a particular snapshot\n",
    "\n",
    "rows = trino.execute(\"\"\"\n",
    "SELECT * FROM iceberg.default.bank_transfers\n",
    "FOR VERSION AS OF 3676091413992867389\n",
    "ORDER BY id\n",
    "\"\"\").fetchall()\n",
    "\n",
    "for row in rows:\n",
    "    print(row)"
   ]
  },
  {
   "cell_type": "code",
   "execution_count": null,
   "id": "825cd9c1",
   "metadata": {},
   "outputs": [],
   "source": [
    "# query table manifests\n",
    "\n",
    "cols = trino.execute(\"\"\"\n",
    "SHOW COLUMNS\n",
    "FROM iceberg.default.\"bank_transfers$manifests\"\n",
    "\"\"\").fetchall()\n",
    "\n",
    "rows = trino.execute(\"\"\"\n",
    "SELECT *\n",
    "FROM iceberg.default.\"bank_transfers$manifests\"\n",
    "\"\"\").fetchall()\n",
    "\n",
    "\n",
    "for col in cols:\n",
    "    print(col)\n",
    "\n",
    "print(\"\")\n",
    "    \n",
    "for row in rows:\n",
    "    print(row)"
   ]
  },
  {
   "cell_type": "code",
   "execution_count": null,
   "id": "6a26dcc7",
   "metadata": {},
   "outputs": [],
   "source": [
    "# query table partitions\n",
    "\n",
    "cols = trino.execute(\"\"\"\n",
    "SHOW COLUMNS\n",
    "FROM iceberg.default.\"bank_transfers$partitions\"\n",
    "\"\"\").fetchall()\n",
    "\n",
    "rows = trino.execute(\"\"\"\n",
    "SELECT *\n",
    "FROM iceberg.default.\"bank_transfers$partitions\"\n",
    "\"\"\").fetchall()\n",
    "\n",
    "\n",
    "for col in cols:\n",
    "    print(col)\n",
    "\n",
    "print(\"\")\n",
    "    \n",
    "for row in rows:\n",
    "    print(row)"
   ]
  }
 ],
 "metadata": {
  "kernelspec": {
   "display_name": "Python 3 (ipykernel)",
   "language": "python",
   "name": "python3"
  },
  "language_info": {
   "codemirror_mode": {
    "name": "ipython",
    "version": 3
   },
   "file_extension": ".py",
   "mimetype": "text/x-python",
   "name": "python",
   "nbconvert_exporter": "python",
   "pygments_lexer": "ipython3",
   "version": "3.8.10"
  }
 },
 "nbformat": 4,
 "nbformat_minor": 5
}
