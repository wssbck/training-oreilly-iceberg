{
 "cells": [
  {
   "cell_type": "code",
   "execution_count": null,
   "id": "11be9775",
   "metadata": {},
   "outputs": [],
   "source": [
    "# list files and folders in the location of the table\n",
    "\n",
    "!ls -l /usr/local/hadoop/warehouse/bank_transfers/"
   ]
  },
  {
   "cell_type": "code",
   "execution_count": null,
   "id": "5aa6641f",
   "metadata": {},
   "outputs": [],
   "source": [
    "# the data folder\n",
    "\n",
    "!ls -l /usr/local/hadoop/warehouse/bank_transfers/data"
   ]
  },
  {
   "cell_type": "code",
   "execution_count": null,
   "id": "630a83d7",
   "metadata": {},
   "outputs": [],
   "source": [
    "# a data folder with a particular partition\n",
    "\n",
    "!ls -l \"/usr/local/hadoop/warehouse/bank_transfers/data/timestamp_year=2022\""
   ]
  },
  {
   "cell_type": "code",
   "execution_count": null,
   "id": "f393c407",
   "metadata": {},
   "outputs": [],
   "source": [
    "# the metadata folder\n",
    "\n",
    "!ls -l /usr/local/hadoop/warehouse/bank_transfers/metadata"
   ]
  },
  {
   "cell_type": "code",
   "execution_count": null,
   "id": "b42fcde0",
   "metadata": {},
   "outputs": [],
   "source": [
    "# inspect one of the manifest list files\n",
    "\n",
    "!java -jar /usr/bin/avro.jar tojson \"/usr/local/hadoop/warehouse/bank_transfers/metadata/snap-4618106655617205880-1-0e010a6a-4a5a-4dd5-9591-94d7a70db315.avro\" | jq"
   ]
  },
  {
   "cell_type": "code",
   "execution_count": null,
   "id": "5c68dd57",
   "metadata": {},
   "outputs": [],
   "source": [
    "# inspect one of the manifest files\n",
    "\n",
    "!java -jar /usr/bin/avro.jar tojson \"/usr/local/hadoop/warehouse/bank_transfers/metadata/0e010a6a-4a5a-4dd5-9591-94d7a70db315-m0.avro\" | jq"
   ]
  },
  {
   "cell_type": "code",
   "execution_count": null,
   "id": "ad6b87c6",
   "metadata": {},
   "outputs": [],
   "source": [
    "# inspect one of the JSON metadata files\n",
    "\n",
    "!cat \"/usr/local/hadoop/warehouse/bank_transfers/metadata/00007-f50916cf-f24a-4355-9780-1c73ea286920.metadata.json\" | jq"
   ]
  }
 ],
 "metadata": {
  "kernelspec": {
   "display_name": "Python 3 (ipykernel)",
   "language": "python",
   "name": "python3"
  },
  "language_info": {
   "codemirror_mode": {
    "name": "ipython",
    "version": 3
   },
   "file_extension": ".py",
   "mimetype": "text/x-python",
   "name": "python",
   "nbconvert_exporter": "python",
   "pygments_lexer": "ipython3",
   "version": "3.8.10"
  }
 },
 "nbformat": 4,
 "nbformat_minor": 5
}
