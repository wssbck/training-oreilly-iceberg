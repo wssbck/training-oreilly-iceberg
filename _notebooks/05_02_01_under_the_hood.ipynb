{
 "cells": [
  {
   "cell_type": "code",
   "execution_count": null,
   "id": "11be9775",
   "metadata": {},
   "outputs": [],
   "source": [
    "# list files and folders in the location of the table\n",
    "\n",
    "!ls -l /usr/local/hadoop/warehouse/bank_transfers/"
   ]
  },
  {
   "cell_type": "code",
   "execution_count": null,
   "id": "5aa6641f",
   "metadata": {},
   "outputs": [],
   "source": [
    "# the data folder\n",
    "\n",
    "!ls -l /usr/local/hadoop/warehouse/bank_transfers/data"
   ]
  },
  {
   "cell_type": "code",
   "execution_count": null,
   "id": "630a83d7",
   "metadata": {},
   "outputs": [],
   "source": [
    "# a data folder with a particular partition\n",
    "\n",
    "!ls -l \"/usr/local/hadoop/warehouse/bank_transfers/data/timestamp_year=2022/amount_bucket_1000=701\""
   ]
  },
  {
   "cell_type": "code",
   "execution_count": null,
   "id": "f393c407",
   "metadata": {},
   "outputs": [],
   "source": [
    "# the metadata folder\n",
    "\n",
    "!ls -l /usr/local/hadoop/warehouse/bank_transfers/metadata"
   ]
  },
  {
   "cell_type": "code",
   "execution_count": null,
   "id": "b42fcde0",
   "metadata": {},
   "outputs": [],
   "source": [
    "# inspect one of the manifest list files\n",
    "\n",
    "!java -jar /usr/bin/avro.jar tojson \"/usr/local/hadoop/warehouse/bank_transfers/metadata/snap-3148019453817398115-1-3c26835c-2ac1-4301-b726-23039c0acc37.avro\" | jq"
   ]
  },
  {
   "cell_type": "code",
   "execution_count": null,
   "id": "5c68dd57",
   "metadata": {},
   "outputs": [],
   "source": [
    "# inspect one of the manifest files\n",
    "\n",
    "!java -jar /usr/bin/avro.jar tojson \"/usr/local/hadoop/warehouse/bank_transfers/metadata/7e3cfeec-032b-48b4-b85a-acbd8930767c-m1.avro\" | jq"
   ]
  },
  {
   "cell_type": "code",
   "execution_count": null,
   "id": "ad6b87c6",
   "metadata": {},
   "outputs": [],
   "source": [
    "# inspect one of the JSON metadata files\n",
    "\n",
    "!cat \"/usr/local/hadoop/warehouse/bank_transfers/metadata/00003-7a5c7b09-3e60-449c-8114-e79b503cf1b3.metadata.json\" | jq"
   ]
  }
 ],
 "metadata": {
  "kernelspec": {
   "display_name": "Python 3 (ipykernel)",
   "language": "python",
   "name": "python3"
  },
  "language_info": {
   "codemirror_mode": {
    "name": "ipython",
    "version": 3
   },
   "file_extension": ".py",
   "mimetype": "text/x-python",
   "name": "python",
   "nbconvert_exporter": "python",
   "pygments_lexer": "ipython3",
   "version": "3.8.10"
  }
 },
 "nbformat": 4,
 "nbformat_minor": 5
}
