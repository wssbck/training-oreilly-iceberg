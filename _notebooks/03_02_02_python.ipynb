{
 "cells": [
  {
   "cell_type": "code",
   "execution_count": null,
   "id": "a4ac841d",
   "metadata": {},
   "outputs": [],
   "source": [
    "# load the table using pure Python client\n",
    "\n",
    "from pyiceberg.catalog.hive import HiveCatalog\n",
    "\n",
    "\n",
    "catalog = HiveCatalog(name=\"iceberg\", uri=\"thrift://hivemetastore:9083\")\n",
    "table = catalog.load_table(\"default.bank_transfers\")\n",
    "meta = table.metadata"
   ]
  },
  {
   "cell_type": "code",
   "execution_count": null,
   "id": "fe71e74c",
   "metadata": {},
   "outputs": [],
   "source": [
    "# list snapshots\n",
    "\n",
    "for snapshot in table.history():\n",
    "    print(snapshot)"
   ]
  },
  {
   "cell_type": "code",
   "execution_count": null,
   "id": "959bb4bb",
   "metadata": {},
   "outputs": [],
   "source": [
    "# current snapshot\n",
    "\n",
    "print(table.current_snapshot())"
   ]
  },
  {
   "cell_type": "code",
   "execution_count": null,
   "id": "40e17114",
   "metadata": {},
   "outputs": [],
   "source": [
    "# physical location\n",
    "\n",
    "print(table.location())"
   ]
  },
  {
   "cell_type": "code",
   "execution_count": null,
   "id": "3926775b",
   "metadata": {},
   "outputs": [],
   "source": [
    "# schemas\n",
    "\n",
    "for schema in meta.schemas:\n",
    "    print(schema)"
   ]
  },
  {
   "cell_type": "code",
   "execution_count": null,
   "id": "43e0cd01",
   "metadata": {},
   "outputs": [],
   "source": [
    "# snapshots again, this time directly from metadata\n",
    "\n",
    "for snapshot in meta.snapshots:\n",
    "    print(snapshot)"
   ]
  },
  {
   "cell_type": "code",
   "execution_count": null,
   "id": "65588bbd",
   "metadata": {},
   "outputs": [],
   "source": [
    "# a single snapshot\n",
    "\n",
    "print(meta.snapshots[-1].manifest_list)"
   ]
  },
  {
   "cell_type": "code",
   "execution_count": null,
   "id": "ee623c27",
   "metadata": {},
   "outputs": [],
   "source": [
    "# current partition spec\n",
    "\n",
    "print(meta.partition_specs)"
   ]
  }
 ],
 "metadata": {
  "kernelspec": {
   "display_name": "Python 3 (ipykernel)",
   "language": "python",
   "name": "python3"
  },
  "language_info": {
   "codemirror_mode": {
    "name": "ipython",
    "version": 3
   },
   "file_extension": ".py",
   "mimetype": "text/x-python",
   "name": "python",
   "nbconvert_exporter": "python",
   "pygments_lexer": "ipython3",
   "version": "3.8.10"
  }
 },
 "nbformat": 4,
 "nbformat_minor": 5
}
