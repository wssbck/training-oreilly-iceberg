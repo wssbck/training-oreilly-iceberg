{
 "cells": [
  {
   "cell_type": "code",
   "execution_count": 1,
   "id": "7314fc35-903d-4bc1-884d-f929be4063d5",
   "metadata": {},
   "outputs": [],
   "source": [
    "import polars as pl"
   ]
  },
  {
   "cell_type": "code",
   "execution_count": 2,
   "id": "09775e45-2115-4c81-bd40-eb0fb743c077",
   "metadata": {},
   "outputs": [],
   "source": [
    "from pyiceberg.catalog.hive import HiveCatalog\n",
    "\n",
    "catalog = HiveCatalog(name=\"iceberg\", uri=\"thrift://hivemetastore:9083\")\n",
    "table = catalog.load_table(\"default.bank_transfers\")\n",
    "table_location = table.metadata_location"
   ]
  },
  {
   "cell_type": "code",
   "execution_count": 3,
   "id": "22ec075a-f57a-433e-886f-36e5ac39cb15",
   "metadata": {},
   "outputs": [
    {
     "data": {
      "text/html": [
       "<div><style>\n",
       ".dataframe > thead > tr,\n",
       ".dataframe > tbody > tr {\n",
       "  text-align: right;\n",
       "  white-space: pre-wrap;\n",
       "}\n",
       "</style>\n",
       "<small>shape: (4, 5)</small><table border=\"1\" class=\"dataframe\"><thead><tr><th>id</th><th>amount</th><th>transferred_from</th><th>transferred_to</th><th>timestamp</th></tr><tr><td>i64</td><td>i32</td><td>str</td><td>str</td><td>datetime[μs, UTC]</td></tr></thead><tbody><tr><td>4</td><td>200</td><td>&quot;CTX Inc.&quot;</td><td>&quot;XYZ GmbH&quot;</td><td>2022-12-01 07:32:18 UTC</td></tr><tr><td>1</td><td>12000</td><td>&quot;ACME INC&quot;</td><td>&quot;ASTROCORP&quot;</td><td>2022-11-14 00:55:00 UTC</td></tr><tr><td>2</td><td>24000</td><td>&quot;John Doe&quot;</td><td>&quot;Jane Doe&quot;</td><td>2022-11-15 02:11:00 UTC</td></tr><tr><td>3</td><td>500</td><td>&quot;Deborah S.&quot;</td><td>&quot;Michael C.&quot;</td><td>2022-11-17 16:25:07 UTC</td></tr></tbody></table></div>"
      ],
      "text/plain": [
       "shape: (4, 5)\n",
       "┌─────┬────────┬──────────────────┬────────────────┬─────────────────────────┐\n",
       "│ id  ┆ amount ┆ transferred_from ┆ transferred_to ┆ timestamp               │\n",
       "│ --- ┆ ---    ┆ ---              ┆ ---            ┆ ---                     │\n",
       "│ i64 ┆ i32    ┆ str              ┆ str            ┆ datetime[μs, UTC]       │\n",
       "╞═════╪════════╪══════════════════╪════════════════╪═════════════════════════╡\n",
       "│ 4   ┆ 200    ┆ CTX Inc.         ┆ XYZ GmbH       ┆ 2022-12-01 07:32:18 UTC │\n",
       "│ 1   ┆ 12000  ┆ ACME INC         ┆ ASTROCORP      ┆ 2022-11-14 00:55:00 UTC │\n",
       "│ 2   ┆ 24000  ┆ John Doe         ┆ Jane Doe       ┆ 2022-11-15 02:11:00 UTC │\n",
       "│ 3   ┆ 500    ┆ Deborah S.       ┆ Michael C.     ┆ 2022-11-17 16:25:07 UTC │\n",
       "└─────┴────────┴──────────────────┴────────────────┴─────────────────────────┘"
      ]
     },
     "execution_count": 3,
     "metadata": {},
     "output_type": "execute_result"
    }
   ],
   "source": [
    "pl.scan_iceberg(table_location).collect()  "
   ]
  },
  {
   "cell_type": "code",
   "execution_count": null,
   "id": "22cebb28-691b-4764-888d-ff8f0a9bb627",
   "metadata": {},
   "outputs": [],
   "source": []
  }
 ],
 "metadata": {
  "kernelspec": {
   "display_name": "Python 3 (ipykernel)",
   "language": "python",
   "name": "python3"
  },
  "language_info": {
   "codemirror_mode": {
    "name": "ipython",
    "version": 3
   },
   "file_extension": ".py",
   "mimetype": "text/x-python",
   "name": "python",
   "nbconvert_exporter": "python",
   "pygments_lexer": "ipython3",
   "version": "3.8.10"
  }
 },
 "nbformat": 4,
 "nbformat_minor": 5
}
