{
 "cells": [
  {
   "cell_type": "code",
   "execution_count": null,
   "id": "7314fc35-903d-4bc1-884d-f929be4063d5",
   "metadata": {},
   "outputs": [],
   "source": [
    "# import polars\n",
    "\n",
    "import polars as pl"
   ]
  },
  {
   "cell_type": "code",
   "execution_count": null,
   "id": "09775e45-2115-4c81-bd40-eb0fb743c077",
   "metadata": {},
   "outputs": [],
   "source": [
    "# use pyiceberg to get the location of the table\n",
    "\n",
    "from pyiceberg.catalog.hive import HiveCatalog\n",
    "\n",
    "catalog = HiveCatalog(name=\"iceberg\", uri=\"thrift://hivemetastore:9083\")\n",
    "table = catalog.load_table(\"default.bank_transfers\")\n",
    "table_location = table.metadata_location"
   ]
  },
  {
   "cell_type": "code",
   "execution_count": null,
   "id": "22ec075a-f57a-433e-886f-36e5ac39cb15",
   "metadata": {},
   "outputs": [],
   "source": [
    "# perform a scan of the table\n",
    "\n",
    "bank_transfers = pl.scan_iceberg(table_location)"
   ]
  },
  {
   "cell_type": "code",
   "execution_count": null,
   "id": "22cebb28-691b-4764-888d-ff8f0a9bb627",
   "metadata": {},
   "outputs": [],
   "source": [
    "# use SQL to query the table through the variable created before\n",
    "\n",
    "pl.sql(\n",
    "    \"\"\"\n",
    "    SELECT * FROM bank_transfers\n",
    "    \"\"\"\n",
    ").collect()"
   ]
  },
  {
   "cell_type": "code",
   "execution_count": null,
   "id": "dee29655-b741-419a-bd95-1075f0088820",
   "metadata": {},
   "outputs": [],
   "source": [
    "# use SQL for self-referential query\n",
    "\n",
    "bank_transfers.sql(\n",
    "    \"\"\"\n",
    "    SELECT * FROM self\n",
    "    \"\"\"\n",
    ").collect()"
   ]
  },
  {
   "cell_type": "code",
   "execution_count": null,
   "id": "ef91a89e-1758-4c93-a192-7b0d2faa27cb",
   "metadata": {},
   "outputs": [],
   "source": [
    "# A filtering query using the DataFrame API\n",
    "\n",
    "bank_transfers.filter(\n",
    "    pl.col('transferred_from') == \"Charles B.\"\n",
    ").collect()"
   ]
  },
  {
   "cell_type": "code",
   "execution_count": null,
   "id": "99b43594-5ffb-4c14-a809-5536fb76e125",
   "metadata": {},
   "outputs": [],
   "source": [
    "# A basic analytical query\n",
    "\n",
    "pl.sql(\n",
    "    \"\"\"\n",
    "    SELECT\n",
    "        transferred_to,\n",
    "        COUNT(*) AS count,\n",
    "        SUM(amount) AS total_transfers\n",
    "    FROM bank_transfers\n",
    "    GROUP BY transferred_to\n",
    "    \"\"\"\n",
    ").collect()"
   ]
  },
  {
   "cell_type": "code",
   "execution_count": null,
   "id": "34eaff03-d27b-48a6-b345-6c824d529760",
   "metadata": {},
   "outputs": [],
   "source": [
    "# Is it really evaluated lazily?\n",
    "\n",
    "df = pl.sql(\n",
    "    \"\"\"\n",
    "    SELECT\n",
    "        transferred_to,\n",
    "        COUNT(*) AS count,\n",
    "        SUM(amount) AS total_transfers\n",
    "    FROM bank_transfers\n",
    "    GROUP BY transferred_to\n",
    "    \"\"\"\n",
    ")\n",
    "type(df)"
   ]
  },
  {
   "cell_type": "code",
   "execution_count": null,
   "id": "529c7123-ac88-4335-974b-14394112c91f",
   "metadata": {},
   "outputs": [],
   "source": [
    "# What does it contain, then?\n",
    "\n",
    "df.explain()"
   ]
  },
  {
   "cell_type": "code",
   "execution_count": null,
   "id": "7981b21a-0787-4c40-bad2-464ad66d876b",
   "metadata": {},
   "outputs": [],
   "source": [
    "# Let's see the results again!\n",
    "\n",
    "df.collect()"
   ]
  },
  {
   "cell_type": "code",
   "execution_count": null,
   "id": "ffbdbb6e-8ceb-4f95-acf0-5008ac51612e",
   "metadata": {},
   "outputs": [],
   "source": [
    "# What about time travel?\n",
    "\n",
    "table_log = table.metadata.metadata_log\n",
    "table_log"
   ]
  },
  {
   "cell_type": "code",
   "execution_count": null,
   "id": "104d980e-107a-460a-b930-5a566fc792b1",
   "metadata": {},
   "outputs": [],
   "source": [
    "pl.scan_iceberg(\n",
    "    table_log[4].metadata_file\n",
    ").collect()"
   ]
  }
 ],
 "metadata": {
  "kernelspec": {
   "display_name": "Python 3 (ipykernel)",
   "language": "python",
   "name": "python3"
  },
  "language_info": {
   "codemirror_mode": {
    "name": "ipython",
    "version": 3
   },
   "file_extension": ".py",
   "mimetype": "text/x-python",
   "name": "python",
   "nbconvert_exporter": "python",
   "pygments_lexer": "ipython3",
   "version": "3.12.9"
  }
 },
 "nbformat": 4,
 "nbformat_minor": 5
}
